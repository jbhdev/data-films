{
 "cells": [
  {
   "cell_type": "code",
   "execution_count": 40,
   "id": "a1041920",
   "metadata": {},
   "outputs": [],
   "source": [
    "import pandas as pd\n",
    "import ast\n",
    "df = pd.read_csv('streamlit_app/datasets/raw/films.csv')\n"
   ]
  },
  {
   "cell_type": "code",
   "execution_count": 36,
   "id": "e006eb67",
   "metadata": {},
   "outputs": [
    {
     "data": {
      "application/vnd.microsoft.datawrangler.viewer.v0+json": {
       "columns": [
        {
         "name": "index",
         "rawType": "object",
         "type": "string"
        },
        {
         "name": "Unnamed: 0",
         "rawType": "float64",
         "type": "float"
        },
        {
         "name": "id",
         "rawType": "float64",
         "type": "float"
        },
        {
         "name": "popularity",
         "rawType": "float64",
         "type": "float"
        },
        {
         "name": "vote_average",
         "rawType": "float64",
         "type": "float"
        },
        {
         "name": "decennie",
         "rawType": "float64",
         "type": "float"
        },
        {
         "name": "startYear",
         "rawType": "float64",
         "type": "float"
        },
        {
         "name": "runtimeMinutes",
         "rawType": "float64",
         "type": "float"
        }
       ],
       "ref": "a61f06a3-0f08-4bfa-a53a-a42fe8424c94",
       "rows": [
        [
         "count",
         "10973.0",
         "10973.0",
         "10973.0",
         "10973.0",
         "10973.0",
         "10973.0",
         "10973.0"
        ],
        [
         "mean",
         "5486.0",
         "507650.50824751664",
         "5.290837136608038",
         "5.35907700719949",
         "2007.7417297001732",
         "2011.6546978948327",
         "98.86056684589447"
        ],
        [
         "std",
         "3167.776586187858",
         "420806.1813895263",
         "23.366806967977414",
         "1.989142978407058",
         "13.101165795579503",
         "12.673055266112673",
         "17.66624764355294"
        ],
        [
         "min",
         "0.0",
         "24.0",
         "0.6",
         "0.0",
         "1980.0",
         "1980.0",
         "45.0"
        ],
        [
         "25%",
         "2743.0",
         "82050.0",
         "1.022",
         "4.973",
         "2000.0",
         "2004.0",
         "89.0"
        ],
        [
         "50%",
         "5486.0",
         "426973.0",
         "1.8973",
         "5.811",
         "2010.0",
         "2016.0",
         "97.0"
        ],
        [
         "75%",
         "8229.0",
         "908327.0",
         "4.814",
         "6.559",
         "2020.0",
         "2022.0",
         "106.0"
        ],
        [
         "max",
         "10972.0",
         "1491034.0",
         "1170.178",
         "10.0",
         "2020.0",
         "2026.0",
         "247.0"
        ]
       ],
       "shape": {
        "columns": 7,
        "rows": 8
       }
      },
      "text/html": [
       "<div>\n",
       "<style scoped>\n",
       "    .dataframe tbody tr th:only-of-type {\n",
       "        vertical-align: middle;\n",
       "    }\n",
       "\n",
       "    .dataframe tbody tr th {\n",
       "        vertical-align: top;\n",
       "    }\n",
       "\n",
       "    .dataframe thead th {\n",
       "        text-align: right;\n",
       "    }\n",
       "</style>\n",
       "<table border=\"1\" class=\"dataframe\">\n",
       "  <thead>\n",
       "    <tr style=\"text-align: right;\">\n",
       "      <th></th>\n",
       "      <th>Unnamed: 0</th>\n",
       "      <th>id</th>\n",
       "      <th>popularity</th>\n",
       "      <th>vote_average</th>\n",
       "      <th>decennie</th>\n",
       "      <th>startYear</th>\n",
       "      <th>runtimeMinutes</th>\n",
       "    </tr>\n",
       "  </thead>\n",
       "  <tbody>\n",
       "    <tr>\n",
       "      <th>count</th>\n",
       "      <td>10973.000000</td>\n",
       "      <td>1.097300e+04</td>\n",
       "      <td>10973.000000</td>\n",
       "      <td>10973.000000</td>\n",
       "      <td>10973.000000</td>\n",
       "      <td>10973.000000</td>\n",
       "      <td>10973.000000</td>\n",
       "    </tr>\n",
       "    <tr>\n",
       "      <th>mean</th>\n",
       "      <td>5486.000000</td>\n",
       "      <td>5.076505e+05</td>\n",
       "      <td>5.290837</td>\n",
       "      <td>5.359077</td>\n",
       "      <td>2007.741730</td>\n",
       "      <td>2011.654698</td>\n",
       "      <td>98.860567</td>\n",
       "    </tr>\n",
       "    <tr>\n",
       "      <th>std</th>\n",
       "      <td>3167.776586</td>\n",
       "      <td>4.208062e+05</td>\n",
       "      <td>23.366807</td>\n",
       "      <td>1.989143</td>\n",
       "      <td>13.101166</td>\n",
       "      <td>12.673055</td>\n",
       "      <td>17.666248</td>\n",
       "    </tr>\n",
       "    <tr>\n",
       "      <th>min</th>\n",
       "      <td>0.000000</td>\n",
       "      <td>2.400000e+01</td>\n",
       "      <td>0.600000</td>\n",
       "      <td>0.000000</td>\n",
       "      <td>1980.000000</td>\n",
       "      <td>1980.000000</td>\n",
       "      <td>45.000000</td>\n",
       "    </tr>\n",
       "    <tr>\n",
       "      <th>25%</th>\n",
       "      <td>2743.000000</td>\n",
       "      <td>8.205000e+04</td>\n",
       "      <td>1.022000</td>\n",
       "      <td>4.973000</td>\n",
       "      <td>2000.000000</td>\n",
       "      <td>2004.000000</td>\n",
       "      <td>89.000000</td>\n",
       "    </tr>\n",
       "    <tr>\n",
       "      <th>50%</th>\n",
       "      <td>5486.000000</td>\n",
       "      <td>4.269730e+05</td>\n",
       "      <td>1.897300</td>\n",
       "      <td>5.811000</td>\n",
       "      <td>2010.000000</td>\n",
       "      <td>2016.000000</td>\n",
       "      <td>97.000000</td>\n",
       "    </tr>\n",
       "    <tr>\n",
       "      <th>75%</th>\n",
       "      <td>8229.000000</td>\n",
       "      <td>9.083270e+05</td>\n",
       "      <td>4.814000</td>\n",
       "      <td>6.559000</td>\n",
       "      <td>2020.000000</td>\n",
       "      <td>2022.000000</td>\n",
       "      <td>106.000000</td>\n",
       "    </tr>\n",
       "    <tr>\n",
       "      <th>max</th>\n",
       "      <td>10972.000000</td>\n",
       "      <td>1.491034e+06</td>\n",
       "      <td>1170.178000</td>\n",
       "      <td>10.000000</td>\n",
       "      <td>2020.000000</td>\n",
       "      <td>2026.000000</td>\n",
       "      <td>247.000000</td>\n",
       "    </tr>\n",
       "  </tbody>\n",
       "</table>\n",
       "</div>"
      ],
      "text/plain": [
       "         Unnamed: 0            id    popularity  vote_average      decennie  \\\n",
       "count  10973.000000  1.097300e+04  10973.000000  10973.000000  10973.000000   \n",
       "mean    5486.000000  5.076505e+05      5.290837      5.359077   2007.741730   \n",
       "std     3167.776586  4.208062e+05     23.366807      1.989143     13.101166   \n",
       "min        0.000000  2.400000e+01      0.600000      0.000000   1980.000000   \n",
       "25%     2743.000000  8.205000e+04      1.022000      4.973000   2000.000000   \n",
       "50%     5486.000000  4.269730e+05      1.897300      5.811000   2010.000000   \n",
       "75%     8229.000000  9.083270e+05      4.814000      6.559000   2020.000000   \n",
       "max    10972.000000  1.491034e+06   1170.178000     10.000000   2020.000000   \n",
       "\n",
       "          startYear  runtimeMinutes  \n",
       "count  10973.000000    10973.000000  \n",
       "mean    2011.654698       98.860567  \n",
       "std       12.673055       17.666248  \n",
       "min     1980.000000       45.000000  \n",
       "25%     2004.000000       89.000000  \n",
       "50%     2016.000000       97.000000  \n",
       "75%     2022.000000      106.000000  \n",
       "max     2026.000000      247.000000  "
      ]
     },
     "execution_count": 36,
     "metadata": {},
     "output_type": "execute_result"
    }
   ],
   "source": [
    "df. describe()"
   ]
  },
  {
   "cell_type": "code",
   "execution_count": 37,
   "id": "6b6c11fc",
   "metadata": {},
   "outputs": [
    {
     "data": {
      "image/png": "[encoded data removed]",
      "text/plain": [
       "<Figure size 1200x1200 with 4 Axes>"
      ]
     },
     "metadata": {},
     "output_type": "display_data"
    },
    {
     "data": {
      "image/png": "[encoded data removed]",
      "text/plain": [
       "<Figure size 1000x500 with 1 Axes>"
      ]
     },
     "metadata": {},
     "output_type": "display_data"
    },
    {
     "data": {
      "image/png": "[encoded data removed]",
      "text/plain": [
       "<Figure size 800x600 with 2 Axes>"
      ]
     },
     "metadata": {},
     "output_type": "display_data"
    },
    {
     "name": "stdout",
     "output_type": "stream",
     "text": [
      "Coefficient de corrélation de Pearson entre Popularité et Note Moyenne : 0.106\n",
      "P-value : 4.96e-29\n"
     ]
    }
   ],
   "source": [
    "import pandas as pd\n",
    "import matplotlib.pyplot as plt\n",
    "import seaborn as sns\n",
    "from scipy.stats import pearsonr\n",
    "import plotly.express as px\n",
    "\n",
    "# Étape 1 : Histogrammes et boxplots\n",
    "fig, axes = plt.subplots(2, 2, figsize=(12, 12))\n",
    "\n",
    "# Vote Average\n",
    "sns.histplot(df['vote_average'], bins=20, ax=axes[0,0], kde=True)\n",
    "axes[0,0].set_title('Distribution des Notes Moyennes')\n",
    "\n",
    "sns.boxplot(x=df['vote_average'], ax=axes[0,1])\n",
    "axes[0,1].set_title('Boxplot Notes Moyennes')\n",
    "\n",
    "# Runtime Minutes\n",
    "sns.histplot(df['runtimeMinutes'], bins=30, ax=axes[1,0], kde=True)\n",
    "axes[1,0].set_title('Distribution des Durées (minutes)')\n",
    "\n",
    "sns.boxplot(x=df['runtimeMinutes'], ax=axes[1,1])\n",
    "axes[1,1].set_title('Boxplot Durées')\n",
    "\n",
    "plt.tight_layout()\n",
    "plt.show()\n",
    "\n",
    "# Étape 3 : Évolution par décennie\n",
    "pop_by_decennie = df.groupby('decennie')['popularity'].mean()\n",
    "vote_by_decennie = df.groupby('decennie')['vote_average'].mean()\n",
    "\n",
    "plt.figure(figsize=(10,5))\n",
    "pop_by_decennie.plot(label='Popularité Moyenne')\n",
    "vote_by_decennie.plot(label='Note Moyenne')\n",
    "plt.title('Évolution de la Popularité et de la Note Moyenne par Décennie')\n",
    "plt.xlabel('Décennie')\n",
    "plt.ylabel('Moyenne')\n",
    "plt.legend()\n",
    "plt.show()\n",
    "\n",
    "# Étape 4 : Matrice de corrélation et heatmap\n",
    "corr_matrix = df[['popularity', 'vote_average', 'runtimeMinutes', 'startYear', 'decennie']].corr()\n",
    "\n",
    "plt.figure(figsize=(8,6))\n",
    "sns.heatmap(corr_matrix, annot=True, cmap='coolwarm', fmt=\".2f\")\n",
    "plt.title('Matrice de Corrélation')\n",
    "plt.show()\n",
    "\n",
    "# Étape 5 : Test de corrélation de Pearson entre popularité et vote_average\n",
    "corr_coef, p_value = pearsonr(df['popularity'], df['vote_average'])\n",
    "print(f\"Coefficient de corrélation de Pearson entre Popularité et Note Moyenne : {corr_coef:.3f}\")\n",
    "print(f\"P-value : {p_value:.3g}\")\n",
    "\n",
    "# Etapes 6 : Evolution dynamique du genre selon la décennie\n",
    "\n"
   ]
  },
  {
   "cell_type": "code",
   "execution_count": 41,
   "id": "ddcd7a7e",
   "metadata": {},
   "outputs": [
    {
     "data": {
      "application/vnd.plotly.v1+json": {
       "config": {
        "plotlyServerURL": "https://plot.ly"
       },
       "data": [
        {
         "hovertemplate": "Genre=Action<br>Décennie=%{x}<br>Popularité moyenne=%{y}<extra></extra>",
         "legendgroup": "Action",
         "line": {
          "color": "#636efa",
          "dash": "solid"
         },
         "marker": {
          "symbol": "circle"
         },
         "mode": "lines+markers",
         "name": "Action",
         "orientation": "v",
         "showlegend": true,
         "type": "scatter",
         "x": [
          1980,
          1990,
          2000,
          2010,
          2020
         ],
         "xaxis": "x",
         "y": [
          5.046338028169014,
          10.276089285714287,
          10.633566878980892,
          12.049468749999999,
          16.590950980392154
         ],
         "yaxis": "y"
        },
        {
         "hovertemplate": "Genre=Animation<br>Décennie=%{x}<br>Popularité moyenne=%{y}<extra></extra>",
         "legendgroup": "Animation",
         "line": {
          "color": "#EF553B",
          "dash": "solid"
         },
         "marker": {
          "symbol": "circle"
         },
         "mode": "lines+markers",
         "name": "Animation",
         "orientation": "v",
         "showlegend": true,
         "type": "scatter",
         "x": [
          1980,
          1990,
          2000,
          2010,
          2020
         ],
         "xaxis": "x",
         "y": [
          8.992619047619048,
          12.533999999999999,
          11.408942307692307,
          8.083964705882352,
          12.526417937219732
         ],
         "yaxis": "y"
        },
        {
         "hovertemplate": "Genre=Aventure<br>Décennie=%{x}<br>Popularité moyenne=%{y}<extra></extra>",
         "legendgroup": "Aventure",
         "line": {
          "color": "#00cc96",
          "dash": "solid"
         },
         "marker": {
          "symbol": "circle"
         },
         "mode": "lines+markers",
         "name": "Aventure",
         "orientation": "v",
         "showlegend": true,
         "type": "scatter",
         "x": [
          1980,
          1990,
          2000,
          2010,
          2020
         ],
         "xaxis": "x",
         "y": [
          5.142830188679246,
          7.698806451612903,
          11.946381355932203,
          10.5756301369863,
          18.88383216216216
         ],
         "yaxis": "y"
        },
        {
         "hovertemplate": "Genre=Comédie<br>Décennie=%{x}<br>Popularité moyenne=%{y}<extra></extra>",
         "legendgroup": "Comédie",
         "line": {
          "color": "#ab63fa",
          "dash": "solid"
         },
         "marker": {
          "symbol": "circle"
         },
         "mode": "lines+markers",
         "name": "Comédie",
         "orientation": "v",
         "showlegend": true,
         "type": "scatter",
         "x": [
          1980,
          1990,
          2000,
          2010,
          2020
         ],
         "xaxis": "x",
         "y": [
          2.6961874999999997,
          3.647301052631579,
          4.333165333333333,
          5.141406679764244,
          5.786282596491228
         ],
         "yaxis": "y"
        },
        {
         "hovertemplate": "Genre=Crime<br>Décennie=%{x}<br>Popularité moyenne=%{y}<extra></extra>",
         "legendgroup": "Crime",
         "line": {
          "color": "#FFA15A",
          "dash": "solid"
         },
         "marker": {
          "symbol": "circle"
         },
         "mode": "lines+markers",
         "name": "Crime",
         "orientation": "v",
         "showlegend": true,
         "type": "scatter",
         "x": [
          1980,
          1990,
          2000,
          2010,
          2020
         ],
         "xaxis": "x",
         "y": [
          3.7258839285714282,
          5.6409090909090915,
          6.565672839506172,
          7.095022222222222,
          10.608133333333335
         ],
         "yaxis": "y"
        },
        {
         "hovertemplate": "Genre=Documentaire<br>Décennie=%{x}<br>Popularité moyenne=%{y}<extra></extra>",
         "legendgroup": "Documentaire",
         "line": {
          "color": "#19d3f3",
          "dash": "solid"
         },
         "marker": {
          "symbol": "circle"
         },
         "mode": "lines+markers",
         "name": "Documentaire",
         "orientation": "v",
         "showlegend": true,
         "type": "scatter",
         "x": [
          1980,
          1990,
          2000,
          2010,
          2020
         ],
         "xaxis": "x",
         "y": [
          1.0083333333333333,
          0.6976,
          1.10975,
          1.5078125,
          0.7972222222222222
         ],
         "yaxis": "y"
        },
        {
         "hovertemplate": "Genre=Drame<br>Décennie=%{x}<br>Popularité moyenne=%{y}<extra></extra>",
         "legendgroup": "Drame",
         "line": {
          "color": "#FF6692",
          "dash": "solid"
         },
         "marker": {
          "symbol": "circle"
         },
         "mode": "lines+markers",
         "name": "Drame",
         "orientation": "v",
         "showlegend": true,
         "type": "scatter",
         "x": [
          1980,
          1990,
          2000,
          2010,
          2020
         ],
         "xaxis": "x",
         "y": [
          2.7412558139534884,
          3.5672268041237114,
          3.4516323777403035,
          4.1673126520681265,
          4.514751716031969
         ],
         "yaxis": "y"
        },
        {
         "hovertemplate": "Genre=Familial<br>Décennie=%{x}<br>Popularité moyenne=%{y}<extra></extra>",
         "legendgroup": "Familial",
         "line": {
          "color": "#B6E880",
          "dash": "solid"
         },
         "marker": {
          "symbol": "circle"
         },
         "mode": "lines+markers",
         "name": "Familial",
         "orientation": "v",
         "showlegend": true,
         "type": "scatter",
         "x": [
          1980,
          1990,
          2000,
          2010,
          2020
         ],
         "xaxis": "x",
         "y": [
          7.156533333333333,
          10.450823529411764,
          10.827219512195121,
          7.332338582677165,
          12.469707317073171
         ],
         "yaxis": "y"
        },
        {
         "hovertemplate": "Genre=Fantastique<br>Décennie=%{x}<br>Popularité moyenne=%{y}<extra></extra>",
         "legendgroup": "Fantastique",
         "line": {
          "color": "#FF97FF",
          "dash": "solid"
         },
         "marker": {
          "symbol": "circle"
         },
         "mode": "lines+markers",
         "name": "Fantastique",
         "orientation": "v",
         "showlegend": true,
         "type": "scatter",
         "x": [
          1980,
          1990,
          2000,
          2010,
          2020
         ],
         "xaxis": "x",
         "y": [
          6.081142857142857,
          9.881964285714286,
          9.89259756097561,
          7.587170212765958,
          8.729906363636363
         ],
         "yaxis": "y"
        },
        {
         "hovertemplate": "Genre=Guerre<br>Décennie=%{x}<br>Popularité moyenne=%{y}<extra></extra>",
         "legendgroup": "Guerre",
         "line": {
          "color": "#FECB52",
          "dash": "solid"
         },
         "marker": {
          "symbol": "circle"
         },
         "mode": "lines+markers",
         "name": "Guerre",
         "orientation": "v",
         "showlegend": true,
         "type": "scatter",
         "x": [
          1980,
          1990,
          2000,
          2010,
          2020
         ],
         "xaxis": "x",
         "y": [
          3.4604871794871794,
          7.046875,
          7.84493023255814,
          7.112246153846153,
          7.754167676767676
         ],
         "yaxis": "y"
        },
        {
         "hovertemplate": "Genre=Histoire<br>Décennie=%{x}<br>Popularité moyenne=%{y}<extra></extra>",
         "legendgroup": "Histoire",
         "line": {
          "color": "#636efa",
          "dash": "solid"
         },
         "marker": {
          "symbol": "circle"
         },
         "mode": "lines+markers",
         "name": "Histoire",
         "orientation": "v",
         "showlegend": true,
         "type": "scatter",
         "x": [
          1980,
          1990,
          2000,
          2010,
          2020
         ],
         "xaxis": "x",
         "y": [
          2.866727272727273,
          5.76903448275862,
          5.691063829787234,
          5.781012345679012,
          4.900572772277227
         ],
         "yaxis": "y"
        },
        {
         "hovertemplate": "Genre=Horreur<br>Décennie=%{x}<br>Popularité moyenne=%{y}<extra></extra>",
         "legendgroup": "Horreur",
         "line": {
          "color": "#EF553B",
          "dash": "solid"
         },
         "marker": {
          "symbol": "circle"
         },
         "mode": "lines+markers",
         "name": "Horreur",
         "orientation": "v",
         "showlegend": true,
         "type": "scatter",
         "x": [
          1980,
          1990,
          2000,
          2010,
          2020
         ],
         "xaxis": "x",
         "y": [
          2.9185,
          5.655703703703704,
          5.887172839506173,
          6.559697247706422,
          5.228236627906976
         ],
         "yaxis": "y"
        },
        {
         "hovertemplate": "Genre=Musique<br>Décennie=%{x}<br>Popularité moyenne=%{y}<extra></extra>",
         "legendgroup": "Musique",
         "line": {
          "color": "#00cc96",
          "dash": "solid"
         },
         "marker": {
          "symbol": "circle"
         },
         "mode": "lines+markers",
         "name": "Musique",
         "orientation": "v",
         "showlegend": true,
         "type": "scatter",
         "x": [
          1980,
          1990,
          2000,
          2010,
          2020
         ],
         "xaxis": "x",
         "y": [
          2.034666666666667,
          2.125,
          6.5505555555555555,
          2.767,
          1.8364285714285715
         ],
         "yaxis": "y"
        },
        {
         "hovertemplate": "Genre=Mystère<br>Décennie=%{x}<br>Popularité moyenne=%{y}<extra></extra>",
         "legendgroup": "Mystère",
         "line": {
          "color": "#ab63fa",
          "dash": "solid"
         },
         "marker": {
          "symbol": "circle"
         },
         "mode": "lines+markers",
         "name": "Mystère",
         "orientation": "v",
         "showlegend": true,
         "type": "scatter",
         "x": [
          1980,
          1990,
          2000,
          2010,
          2020
         ],
         "xaxis": "x",
         "y": [
          1.7273636363636364,
          4.678999999999999,
          7.10884,
          7.75236111111111,
          7.185584776119403
         ],
         "yaxis": "y"
        },
        {
         "hovertemplate": "Genre=Romance<br>Décennie=%{x}<br>Popularité moyenne=%{y}<extra></extra>",
         "legendgroup": "Romance",
         "line": {
          "color": "#FFA15A",
          "dash": "solid"
         },
         "marker": {
          "symbol": "circle"
         },
         "mode": "lines+markers",
         "name": "Romance",
         "orientation": "v",
         "showlegend": true,
         "type": "scatter",
         "x": [
          1980,
          1990,
          2000,
          2010,
          2020
         ],
         "xaxis": "x",
         "y": [
          3.8059687500000003,
          5.960909523809524,
          5.3500178041543025,
          6.3406560693641625,
          4.255741397849462
         ],
         "yaxis": "y"
        },
        {
         "hovertemplate": "Genre=Science-Fiction<br>Décennie=%{x}<br>Popularité moyenne=%{y}<extra></extra>",
         "legendgroup": "Science-Fiction",
         "line": {
          "color": "#19d3f3",
          "dash": "solid"
         },
         "marker": {
          "symbol": "circle"
         },
         "mode": "lines+markers",
         "name": "Science-Fiction",
         "orientation": "v",
         "showlegend": true,
         "type": "scatter",
         "x": [
          1980,
          1990,
          2000,
          2010,
          2020
         ],
         "xaxis": "x",
         "y": [
          4.1581875,
          8.900869565217391,
          12.7758125,
          11.227500000000001,
          12.229682368421052
         ],
         "yaxis": "y"
        },
        {
         "hovertemplate": "Genre=Thriller<br>Décennie=%{x}<br>Popularité moyenne=%{y}<extra></extra>",
         "legendgroup": "Thriller",
         "line": {
          "color": "#FF6692",
          "dash": "solid"
         },
         "marker": {
          "symbol": "circle"
         },
         "mode": "lines+markers",
         "name": "Thriller",
         "orientation": "v",
         "showlegend": true,
         "type": "scatter",
         "x": [
          1980,
          1990,
          2000,
          2010,
          2020
         ],
         "xaxis": "x",
         "y": [
          3.594393258426966,
          5.6963033707865165,
          6.789434262948207,
          7.1581178707224336,
          7.893027705977383
         ],
         "yaxis": "y"
        },
        {
         "hovertemplate": "Genre=Téléfilm<br>Décennie=%{x}<br>Popularité moyenne=%{y}<extra></extra>",
         "legendgroup": "Téléfilm",
         "line": {
          "color": "#B6E880",
          "dash": "solid"
         },
         "marker": {
          "symbol": "circle"
         },
         "mode": "lines+markers",
         "name": "Téléfilm",
         "orientation": "v",
         "showlegend": true,
         "type": "scatter",
         "x": [
          1980,
          1990,
          2000,
          2010,
          2020
         ],
         "xaxis": "x",
         "y": [
          1.9164999999999999,
          3.1006,
          3.048,
          4.560846153846153,
          2.702666666666667
         ],
         "yaxis": "y"
        },
        {
         "hovertemplate": "Genre=War<br>Décennie=%{x}<br>Popularité moyenne=%{y}<extra></extra>",
         "legendgroup": "War",
         "line": {
          "color": "#FF97FF",
          "dash": "solid"
         },
         "marker": {
          "symbol": "circle"
         },
         "mode": "lines+markers",
         "name": "War",
         "orientation": "v",
         "showlegend": true,
         "type": "scatter",
         "x": [
          1980,
          1990
         ],
         "xaxis": "x",
         "y": [
          0.6,
          1.201
         ],
         "yaxis": "y"
        },
        {
         "hovertemplate": "Genre=Western<br>Décennie=%{x}<br>Popularité moyenne=%{y}<extra></extra>",
         "legendgroup": "Western",
         "line": {
          "color": "#FECB52",
          "dash": "solid"
         },
         "marker": {
          "symbol": "circle"
         },
         "mode": "lines+markers",
         "name": "Western",
         "orientation": "v",
         "showlegend": true,
         "type": "scatter",
         "x": [
          1980,
          1990,
          2000,
          2010,
          2020
         ],
         "xaxis": "x",
         "y": [
          8.014,
          2.2565,
          6.5341249999999995,
          8.6359375,
          4.225686
         ],
         "yaxis": "y"
        }
       ],
       "layout": {
        "legend": {
         "title": {
          "text": "Genre"
         },
         "tracegroupgap": 0
        },
        "template": {
         "data": {
          "bar": [
           {
            "error_x": {
             "color": "#2a3f5f"
            },
            "error_y": {
             "color": "#2a3f5f"
            },
            "marker": {
             "line": {
              "color": "#E5ECF6",
              "width": 0.5
             },
             "pattern": {
              "fillmode": "overlay",
              "size": 10,
              "solidity": 0.2
             }
            },
            "type": "bar"
           }
          ],
          "barpolar": [
           {
            "marker": {
             "line": {
              "color": "#E5ECF6",
              "width": 0.5
             },
             "pattern": {
              "fillmode": "overlay",
              "size": 10,
              "solidity": 0.2
             }
            },
            "type": "barpolar"
           }
          ],
          "carpet": [
           {
            "aaxis": {
             "endlinecolor": "#2a3f5f",
             "gridcolor": "white",
             "linecolor": "white",
             "minorgridcolor": "white",
             "startlinecolor": "#2a3f5f"
            },
            "baxis": {
             "endlinecolor": "#2a3f5f",
             "gridcolor": "white",
             "linecolor": "white",
             "minorgridcolor": "white",
             "startlinecolor": "#2a3f5f"
            },
            "type": "carpet"
           }
          ],
          "choropleth": [
           {
            "colorbar": {
             "outlinewidth": 0,
             "ticks": ""
            },
            "type": "choropleth"
           }
          ],
          "contour": [
           {
            "colorbar": {
             "outlinewidth": 0,
             "ticks": ""
            },
            "colorscale": [
             [
              0,
              "#0d0887"
             ],
             [
              0.1111111111111111,
              "#46039f"
             ],
             [
              0.2222222222222222,
              "#7201a8"
             ],
             [
              0.3333333333333333,
              "#9c179e"
             ],
             [
              0.4444444444444444,
              "#bd3786"
             ],
             [
              0.5555555555555556,
              "#d8576b"
             ],
             [
              0.6666666666666666,
              "#ed7953"
             ],
             [
              0.7777777777777778,
              "#fb9f3a"
             ],
             [
              0.8888888888888888,
              "#fdca26"
             ],
             [
              1,
              "#f0f921"
             ]
            ],
            "type": "contour"
           }
          ],
          "contourcarpet": [
           {
            "colorbar": {
             "outlinewidth": 0,
             "ticks": ""
            },
            "type": "contourcarpet"
           }
          ],
          "heatmap": [
           {
            "colorbar": {
             "outlinewidth": 0,
             "ticks": ""
            },
            "colorscale": [
             [
              0,
              "#0d0887"
             ],
             [
              0.1111111111111111,
              "#46039f"
             ],
             [
              0.2222222222222222,
              "#7201a8"
             ],
             [
              0.3333333333333333,
              "#9c179e"
             ],
             [
              0.4444444444444444,
              "#bd3786"
             ],
             [
              0.5555555555555556,
              "#d8576b"
             ],
             [
              0.6666666666666666,
              "#ed7953"
             ],
             [
              0.7777777777777778,
              "#fb9f3a"
             ],
             [
              0.8888888888888888,
              "#fdca26"
             ],
             [
              1,
              "#f0f921"
             ]
            ],
            "type": "heatmap"
           }
          ],
          "heatmapgl": [
           {
            "colorbar": {
             "outlinewidth": 0,
             "ticks": ""
            },
            "colorscale": [
             [
              0,
              "#0d0887"
             ],
             [
              0.1111111111111111,
              "#46039f"
             ],
             [
              0.2222222222222222,
              "#7201a8"
             ],
             [
              0.3333333333333333,
              "#9c179e"
             ],
             [
              0.4444444444444444,
              "#bd3786"
             ],
             [
              0.5555555555555556,
              "#d8576b"
             ],
             [
              0.6666666666666666,
              "#ed7953"
             ],
             [
              0.7777777777777778,
              "#fb9f3a"
             ],
             [
              0.8888888888888888,
              "#fdca26"
             ],
             [
              1,
              "#f0f921"
             ]
            ],
            "type": "heatmapgl"
           }
          ],
          "histogram": [
           {
            "marker": {
             "pattern": {
              "fillmode": "overlay",
              "size": 10,
              "solidity": 0.2
             }
            },
            "type": "histogram"
           }
          ],
          "histogram2d": [
           {
            "colorbar": {
             "outlinewidth": 0,
             "ticks": ""
            },
            "colorscale": [
             [
              0,
              "#0d0887"
             ],
             [
              0.1111111111111111,
              "#46039f"
             ],
             [
              0.2222222222222222,
              "#7201a8"
             ],
             [
              0.3333333333333333,
              "#9c179e"
             ],
             [
              0.4444444444444444,
              "#bd3786"
             ],
             [
              0.5555555555555556,
              "#d8576b"
             ],
             [
              0.6666666666666666,
              "#ed7953"
             ],
             [
              0.7777777777777778,
              "#fb9f3a"
             ],
             [
              0.8888888888888888,
              "#fdca26"
             ],
             [
              1,
              "#f0f921"
             ]
            ],
            "type": "histogram2d"
           }
          ],
          "histogram2dcontour": [
           {
            "colorbar": {
             "outlinewidth": 0,
             "ticks": ""
            },
            "colorscale": [
             [
              0,
              "#0d0887"
             ],
             [
              0.1111111111111111,
              "#46039f"
             ],
             [
              0.2222222222222222,
              "#7201a8"
             ],
             [
              0.3333333333333333,
              "#9c179e"
             ],
             [
              0.4444444444444444,
              "#bd3786"
             ],
             [
              0.5555555555555556,
              "#d8576b"
             ],
             [
              0.6666666666666666,
              "#ed7953"
             ],
             [
              0.7777777777777778,
              "#fb9f3a"
             ],
             [
              0.8888888888888888,
              "#fdca26"
             ],
             [
              1,
              "#f0f921"
             ]
            ],
            "type": "histogram2dcontour"
           }
          ],
          "mesh3d": [
           {
            "colorbar": {
             "outlinewidth": 0,
             "ticks": ""
            },
            "type": "mesh3d"
           }
          ],
          "parcoords": [
           {
            "line": {
             "colorbar": {
              "outlinewidth": 0,
              "ticks": ""
             }
            },
            "type": "parcoords"
           }
          ],
          "pie": [
           {
            "automargin": true,
            "type": "pie"
           }
          ],
          "scatter": [
           {
            "fillpattern": {
             "fillmode": "overlay",
             "size": 10,
             "solidity": 0.2
            },
            "type": "scatter"
           }
          ],
          "scatter3d": [
           {
            "line": {
             "colorbar": {
              "outlinewidth": 0,
              "ticks": ""
             }
            },
            "marker": {
             "colorbar": {
              "outlinewidth": 0,
              "ticks": ""
             }
            },
            "type": "scatter3d"
           }
          ],
          "scattercarpet": [
           {
            "marker": {
             "colorbar": {
              "outlinewidth": 0,
              "ticks": ""
             }
            },
            "type": "scattercarpet"
           }
          ],
          "scattergeo": [
           {
            "marker": {
             "colorbar": {
              "outlinewidth": 0,
              "ticks": ""
             }
            },
            "type": "scattergeo"
           }
          ],
          "scattergl": [
           {
            "marker": {
             "colorbar": {
              "outlinewidth": 0,
              "ticks": ""
             }
            },
            "type": "scattergl"
           }
          ],
          "scattermapbox": [
           {
            "marker": {
             "colorbar": {
              "outlinewidth": 0,
              "ticks": ""
             }
            },
            "type": "scattermapbox"
           }
          ],
          "scatterpolar": [
           {
            "marker": {
             "colorbar": {
              "outlinewidth": 0,
              "ticks": ""
             }
            },
            "type": "scatterpolar"
           }
          ],
          "scatterpolargl": [
           {
            "marker": {
             "colorbar": {
              "outlinewidth": 0,
              "ticks": ""
             }
            },
            "type": "scatterpolargl"
           }
          ],
          "scatterternary": [
           {
            "marker": {
             "colorbar": {
              "outlinewidth": 0,
              "ticks": ""
             }
            },
            "type": "scatterternary"
           }
          ],
          "surface": [
           {
            "colorbar": {
             "outlinewidth": 0,
             "ticks": ""
            },
            "colorscale": [
             [
              0,
              "#0d0887"
             ],
             [
              0.1111111111111111,
              "#46039f"
             ],
             [
              0.2222222222222222,
              "#7201a8"
             ],
             [
              0.3333333333333333,
              "#9c179e"
             ],
             [
              0.4444444444444444,
              "#bd3786"
             ],
             [
              0.5555555555555556,
              "#d8576b"
             ],
             [
              0.6666666666666666,
              "#ed7953"
             ],
             [
              0.7777777777777778,
              "#fb9f3a"
             ],
             [
              0.8888888888888888,
              "#fdca26"
             ],
             [
              1,
              "#f0f921"
             ]
            ],
            "type": "surface"
           }
          ],
          "table": [
           {
            "cells": {
             "fill": {
              "color": "#EBF0F8"
             },
             "line": {
              "color": "white"
             }
            },
            "header": {
             "fill": {
              "color": "#C8D4E3"
             },
             "line": {
              "color": "white"
             }
            },
            "type": "table"
           }
          ]
         },
         "layout": {
          "annotationdefaults": {
           "arrowcolor": "#2a3f5f",
           "arrowhead": 0,
           "arrowwidth": 1
          },
          "autotypenumbers": "strict",
          "coloraxis": {
           "colorbar": {
            "outlinewidth": 0,
            "ticks": ""
           }
          },
          "colorscale": {
           "diverging": [
            [
             0,
             "#8e0152"
            ],
            [
             0.1,
             "#c51b7d"
            ],
            [
             0.2,
             "#de77ae"
            ],
            [
             0.3,
             "#f1b6da"
            ],
            [
             0.4,
             "#fde0ef"
            ],
            [
             0.5,
             "#f7f7f7"
            ],
            [
             0.6,
             "#e6f5d0"
            ],
            [
             0.7,
             "#b8e186"
            ],
            [
             0.8,
             "#7fbc41"
            ],
            [
             0.9,
             "#4d9221"
            ],
            [
             1,
             "#276419"
            ]
           ],
           "sequential": [
            [
             0,
             "#0d0887"
            ],
            [
             0.1111111111111111,
             "#46039f"
            ],
            [
             0.2222222222222222,
             "#7201a8"
            ],
            [
             0.3333333333333333,
             "#9c179e"
            ],
            [
             0.4444444444444444,
             "#bd3786"
            ],
            [
             0.5555555555555556,
             "#d8576b"
            ],
            [
             0.6666666666666666,
             "#ed7953"
            ],
            [
             0.7777777777777778,
             "#fb9f3a"
            ],
            [
             0.8888888888888888,
             "#fdca26"
            ],
            [
             1,
             "#f0f921"
            ]
           ],
           "sequentialminus": [
            [
             0,
             "#0d0887"
            ],
            [
             0.1111111111111111,
             "#46039f"
            ],
            [
             0.2222222222222222,
             "#7201a8"
            ],
            [
             0.3333333333333333,
             "#9c179e"
            ],
            [
             0.4444444444444444,
             "#bd3786"
            ],
            [
             0.5555555555555556,
             "#d8576b"
            ],
            [
             0.6666666666666666,
             "#ed7953"
            ],
            [
             0.7777777777777778,
             "#fb9f3a"
            ],
            [
             0.8888888888888888,
             "#fdca26"
            ],
            [
             1,
             "#f0f921"
            ]
           ]
          },
          "colorway": [
           "#636efa",
           "#EF553B",
           "#00cc96",
           "#ab63fa",
           "#FFA15A",
           "#19d3f3",
           "#FF6692",
           "#B6E880",
           "#FF97FF",
           "#FECB52"
          ],
          "font": {
           "color": "#2a3f5f"
          },
          "geo": {
           "bgcolor": "white",
           "lakecolor": "white",
           "landcolor": "#E5ECF6",
           "showlakes": true,
           "showland": true,
           "subunitcolor": "white"
          },
          "hoverlabel": {
           "align": "left"
          },
          "hovermode": "closest",
          "mapbox": {
           "style": "light"
          },
          "paper_bgcolor": "white",
          "plot_bgcolor": "#E5ECF6",
          "polar": {
           "angularaxis": {
            "gridcolor": "white",
            "linecolor": "white",
            "ticks": ""
           },
           "bgcolor": "#E5ECF6",
           "radialaxis": {
            "gridcolor": "white",
            "linecolor": "white",
            "ticks": ""
           }
          },
          "scene": {
           "xaxis": {
            "backgroundcolor": "#E5ECF6",
            "gridcolor": "white",
            "gridwidth": 2,
            "linecolor": "white",
            "showbackground": true,
            "ticks": "",
            "zerolinecolor": "white"
           },
           "yaxis": {
            "backgroundcolor": "#E5ECF6",
            "gridcolor": "white",
            "gridwidth": 2,
            "linecolor": "white",
            "showbackground": true,
            "ticks": "",
            "zerolinecolor": "white"
           },
           "zaxis": {
            "backgroundcolor": "#E5ECF6",
            "gridcolor": "white",
            "gridwidth": 2,
            "linecolor": "white",
            "showbackground": true,
            "ticks": "",
            "zerolinecolor": "white"
           }
          },
          "shapedefaults": {
           "line": {
            "color": "#2a3f5f"
           }
          },
          "ternary": {
           "aaxis": {
            "gridcolor": "white",
            "linecolor": "white",
            "ticks": ""
           },
           "baxis": {
            "gridcolor": "white",
            "linecolor": "white",
            "ticks": ""
           },
           "bgcolor": "#E5ECF6",
           "caxis": {
            "gridcolor": "white",
            "linecolor": "white",
            "ticks": ""
           }
          },
          "title": {
           "x": 0.05
          },
          "xaxis": {
           "automargin": true,
           "gridcolor": "white",
           "linecolor": "white",
           "ticks": "",
           "title": {
            "standoff": 15
           },
           "zerolinecolor": "white",
           "zerolinewidth": 2
          },
          "yaxis": {
           "automargin": true,
           "gridcolor": "white",
           "linecolor": "white",
           "ticks": "",
           "title": {
            "standoff": 15
           },
           "zerolinecolor": "white",
           "zerolinewidth": 2
          }
         }
        },
        "title": {
         "text": "Évolution de la popularité des genres de films par décennie"
        },
        "xaxis": {
         "anchor": "y",
         "domain": [
          0,
          1
         ],
         "title": {
          "text": "Décennie"
         }
        },
        "yaxis": {
         "anchor": "x",
         "domain": [
          0,
          1
         ],
         "title": {
          "text": "Popularité moyenne"
         }
        }
       }
      }
     },
     "metadata": {},
     "output_type": "display_data"
    }
   ],
   "source": [
    "# Supprimer les lignes avec valeurs manquantes dans les colonnes critiques\n",
    "df = df.dropna(subset=['genres', 'decennie', 'popularity'])\n",
    "\n",
    "# Fonction pour convertir uniquement les chaînes valides\n",
    "def safe_literal_eval(val):\n",
    "    try:\n",
    "        result = ast.literal_eval(val)\n",
    "        if isinstance(result, list):\n",
    "            return result\n",
    "        else:\n",
    "            return None\n",
    "    except:\n",
    "        return None\n",
    "\n",
    "# Appliquer la conversion sécurisée\n",
    "df['genres'] = df['genres'].apply(safe_literal_eval)\n",
    "\n",
    "# Supprimer les lignes où la conversion a échoué\n",
    "df = df.dropna(subset=['genres'])\n",
    "\n",
    "# Exploser les genres\n",
    "df = df.explode('genres')\n",
    "\n",
    "# Grouper par décennie et genre\n",
    "grouped = df.groupby(['decennie', 'genres'])['popularity'].mean().reset_index()\n",
    "\n",
    "# Créer le graphique\n",
    "fig = px.line(\n",
    "    grouped,\n",
    "    x='decennie',\n",
    "    y='popularity',\n",
    "    color='genres',\n",
    "    markers=True,\n",
    "    title=\"Évolution de la popularité des genres de films par décennie\",\n",
    "    labels={\n",
    "        'decennie': 'Décennie',\n",
    "        'popularity': 'Popularité moyenne',\n",
    "        'genres': 'Genre'\n",
    "    }\n",
    ")\n",
    "\n",
    "fig.show()"
   ]
  }
 ],
 "metadata": {
  "kernelspec": {
   "display_name": "base",
   "language": "python",
   "name": "python3"
  },
  "language_info": {
   "codemirror_mode": {
    "name": "ipython",
    "version": 3
   },
   "file_extension": ".py",
   "mimetype": "text/x-python",
   "name": "python",
   "nbconvert_exporter": "python",
   "pygments_lexer": "ipython3",
   "version": "3.12.7"
  }
 },
 "nbformat": 4,
 "nbformat_minor": 5
}
